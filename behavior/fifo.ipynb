{
 "cells": [
  {
   "cell_type": "markdown",
   "metadata": {},
   "source": [
    "# FIFO  \n",
    "* 一个线性的数据结构  \n",
    "* First In, First Out  \n",
    "* **只允许在一端进行插入操作，另一端进行删除操作的线性表**  \n",
    "* 存储结构 ： \n",
    "    * 顺序队列 \n",
    "        * 存储不足\n",
    "        * 循环队列 \n",
    "            * 优点 ： 解决假溢出的问题，后面满了，从头开始，实现头尾相接的循环\n",
    "            * 问题 ：front == rear 表示空？ 表示满？\n",
    "            * 解决 ：\n",
    "                1. 增加一个flag标志， 用flag来区分空/满状态 \n",
    "                2. 改变“满”时front与rear的关系，只允许“空”用front==rear表示\n",
    "    * 链式队列 "
   ]
  },
  {
   "cell_type": "markdown",
   "metadata": {},
   "source": [
    "# queue of python  \n",
    "\n",
    "* **Usage**:   to solve the multi-producer, multi-consumer problem, where messages must be exchanged safely between multiple threads  \n",
    "* **Feature**:  the locking semantics have already been implemented in the Queue class, you don’t need to handle the low level lock, unlock operations, which can easily cause the dead lock problems.\n"
   ]
  },
  {
   "cell_type": "code",
   "execution_count": 17,
   "metadata": {
    "collapsed": false
   },
   "outputs": [
    {
     "name": "stdout",
     "output_type": "stream",
     "text": [
      "item-0\n",
      "item-1\n",
      "item-2\n",
      "item-3\n"
     ]
    }
   ],
   "source": [
    "# Python FIFO Queue\n",
    "import Queue\n",
    "\n",
    "q = Queue.Queue()\n",
    "\n",
    "# put items at the end of the queue\n",
    "for x in range(4):\n",
    "    q.put(\"item-\" + str(x))\n",
    "    \n",
    "# remove items from the head of the queue\n",
    "while not q.empty():\n",
    "    print q.get()\n"
   ]
  },
  {
   "cell_type": "code",
   "execution_count": 10,
   "metadata": {
    "collapsed": false
   },
   "outputs": [
    {
     "name": "stdout",
     "output_type": "stream",
     "text": [
      "process task: a highly agent task\n",
      "process task: an important task\n",
      "process task: a not agent task\n"
     ]
    }
   ],
   "source": [
    "# Python Priority Queue\n",
    "import Queue\n",
    " \n",
    "class Task(object):\n",
    "    def __init__(self, priority, name):\n",
    "        self.priority = priority\n",
    "        self.name = name\n",
    "        \n",
    "    def __cmp__(self, other):\n",
    "        return cmp(self.priority, other.priority)\n",
    " \n",
    "q = Queue.PriorityQueue()\n",
    " \n",
    "q.put( Task(100, 'a not agent task') )\n",
    "q.put( Task(5, 'a highly agent task') )\n",
    "q.put( Task(10, 'an important task') )\n",
    " \n",
    "while not q.empty():\n",
    "    cur_task = q.get()\n",
    "    print 'process task:', cur_task.name"
   ]
  },
  {
   "cell_type": "code",
   "execution_count": 16,
   "metadata": {
    "collapsed": false
   },
   "outputs": [
    {
     "name": "stdout",
     "output_type": "stream",
     "text": [
      "Thread: ConsumerThread-0 start get item from queue[current size = 0] at time = 11:25:34 \n",
      "\n",
      "Thread: ConsumerThread-1 start get item from queue[current size = 0] at time = 11:25:34 \n",
      "\n",
      "Thread: ConsumerThread-2 start get item from queue[current size = 0] at time = 11:25:34 \n",
      "\n",
      "Thread: ProducerThread start put item into queue[current size = 0] at time = 11:25:34 \n",
      "\n",
      "Thread: ProducerThread successfully put item into queue[current size = 1] at time = 11:25:34 \n",
      "\n",
      "Thread: ProducerThread start put item into queue[current size = 1] at time = 11:25:34 \n",
      "\n",
      "Thread: ProducerThread successfully put item into queue[current size = 2] at time = 11:25:34 \n",
      "\n",
      "Thread: ProducerThread start put item into queue[current size = 2] at time = 11:25:34 \n",
      "\n",
      "Thread: ProducerThread successfully put item into queue[current size = 3] at time = 11:25:34 \n",
      "\n",
      "Thread: ProducerThread start put item into queue[current size = 3] at time = 11:25:34 \n",
      "\n",
      "Thread: ProducerThread successfully put item into queue[current size = 2] at time = 11:25:34 \n",
      "\n",
      "Thread: ProducerThread start put item into queue[current size = 2] at time = 11:25:34 \n",
      "\n",
      "Thread: ProducerThread successfully put item into queue[current size = 3] at time = 11:25:34 \n",
      "\n",
      "Thread: ProducerThread start put item into queue[current size = 3] at time = 11:25:34 \n",
      "\n",
      "Thread: ProducerThread successfully put item into queue[current size = 3] at time = 11:25:34 \n",
      "\n",
      "Thread: ProducerThread start put item into queue[current size = 3] at time = 11:25:34 \n",
      "\n",
      "Thread: ConsumerThread-1 finish process item from queue[current size = 3] at time = 11:25:37 \n",
      "Thread: ConsumerThread-2 finish process item from queue[current size = 3] at time = 11:25:37 \n",
      "\n",
      "\n",
      "Thread: ConsumerThread-0 finish process item from queue[current size = 3] at time = 11:25:37 \n",
      "Thread: ConsumerThread-2 start get item from queue[current size = 3] at time = 11:25:37 \n",
      "\n",
      "\n",
      "Thread: ConsumerThread-1 start get item from queue[current size = 3] at time = 11:25:37 \n",
      "\n",
      "Thread: ConsumerThread-0 start get item from queue[current size = 3] at time = 11:25:37 \n",
      "\n",
      "Thread: ProducerThread successfully put item into queue[current size = 1] at time = 11:25:37 \n",
      "\n",
      "Thread: ProducerThread start put item into queue[current size = 1] at time = 11:25:37 \n",
      "\n",
      "Thread: ProducerThread successfully put item into queue[current size = 2] at time = 11:25:37 \n",
      "\n",
      "Thread: ProducerThread start put item into queue[current size = 2] at time = 11:25:37 \n",
      "\n",
      "Thread: ProducerThread successfully put item into queue[current size = 3] at time = 11:25:37 \n",
      "\n",
      "Thread: ProducerThread start put item into queue[current size = 3] at time = 11:25:37 \n",
      "\n",
      "Thread: ConsumerThread-1 finish process item from queue[current size = 3] at time = 11:25:40 \n",
      "Thread: ConsumerThread-0 finish process item from queue[current size = 3] at time = 11:25:40 \n",
      "\n",
      "Thread: ConsumerThread-2 finish process item from queue[current size = 3] at time = 11:25:40 \n",
      "\n",
      "Thread: ConsumerThread-0 start get item from queue[current size = 3] at time = 11:25:40 \n",
      "\n",
      "\n",
      "Thread: ConsumerThread-1 start get item from queue[current size = 3] at time = 11:25:40 \n",
      "Thread: ConsumerThread-2 start get item from queue[current size = 2] at time = 11:25:40 \n",
      "\n",
      "Thread: ProducerThread successfully put item into queue[current size = 3] at time = 11:25:40 \n",
      "\n",
      "\n",
      "Thread: ConsumerThread-2 finish process item from queue[current size = 1] at time = 11:25:43 \n",
      "Thread: ConsumerThread-0 finish process item from queue[current size = 1] at time = 11:25:43 \n",
      "\n",
      "\n",
      "Thread: ConsumerThread-1 finish process item from queue[current size = 1] at time = 11:25:43 \n",
      "Thread: ConsumerThread-0 start get item from queue[current size = 1] at time = 11:25:43 \n",
      "\n",
      "Thread: ConsumerThread-2 start get item from queue[current size = 1] at time = 11:25:43 \n",
      "\n",
      "\n",
      "Thread: ConsumerThread-1 start get item from queue[current size = 1] at time = 11:25:43 \n",
      "\n",
      "Thread: ConsumerThread-0 finish process item from queue[current size = 0] at time = 11:25:46 \n",
      "\n",
      "Thread: ConsumerThread-0 start get item from queue[current size = 0] at time = 11:25:46 \n",
      "\n"
     ]
    }
   ],
   "source": [
    "# Use Python Queue for multithread programming  \n",
    "\n",
    "import threading\n",
    "import time\n",
    "import Queue\n",
    "def consume(q):\n",
    "    while(True):\n",
    "        name = threading.currentThread().getName()\n",
    "        print \"Thread: {0} start get item from queue[current size = {1}] at time = {2} \\n\".format(name, q.qsize(), time.strftime('%H:%M:%S'))\n",
    "        item = q.get();\n",
    "        time.sleep(3)  # spend 3 seconds to process or consume the time\n",
    "        print \"Thread: {0} finish process item from queue[current size = {1}] at time = {2} \\n\".format(name, q.qsize(), time.strftime('%H:%M:%S'))\n",
    "        q.task_done()\n",
    " \n",
    " \n",
    "def producer(q):\n",
    "    # the main thread will put new items to the queue\n",
    " \n",
    "    for i in range(10):\n",
    "        name = threading.currentThread().getName()\n",
    "        print \"Thread: {0} start put item into queue[current size = {1}] at time = {2} \\n\".format(name, q.qsize(), time.strftime('%H:%M:%S'))\n",
    "        item = \"item-\" + str(i)\n",
    "        q.put(item)\n",
    "        print \"Thread: {0} successfully put item into queue[current size = {1}] at time = {2} \\n\".format(name, q.qsize(), time.strftime('%H:%M:%S'))\n",
    " \n",
    "    q.join()\n",
    " \n",
    "if __name__ == '__main__':\n",
    "    q = Queue.Queue(maxsize = 3)\n",
    " \n",
    "    threads_num = 3  # three threads to consume\n",
    "    for i in range(threads_num):\n",
    "        t = threading.Thread(name = \"ConsumerThread-\"+str(i), target=consume, args=(q,))\n",
    "        t.start()\n",
    " \n",
    "    #1 thread to procuce\n",
    "    t = threading.Thread(name = \"ProducerThread\", target=producer, args=(q,))\n",
    "    t.start()\n",
    " \n",
    "    q.join()"
   ]
  },
  {
   "cell_type": "code",
   "execution_count": null,
   "metadata": {
    "collapsed": true
   },
   "outputs": [],
   "source": []
  }
 ],
 "metadata": {
  "anaconda-cloud": {},
  "kernelspec": {
   "display_name": "Python [Root]",
   "language": "python",
   "name": "Python [Root]"
  },
  "language_info": {
   "codemirror_mode": {
    "name": "ipython",
    "version": 2
   },
   "file_extension": ".py",
   "mimetype": "text/x-python",
   "name": "python",
   "nbconvert_exporter": "python",
   "pygments_lexer": "ipython2",
   "version": "2.7.12"
  }
 },
 "nbformat": 4,
 "nbformat_minor": 0
}
